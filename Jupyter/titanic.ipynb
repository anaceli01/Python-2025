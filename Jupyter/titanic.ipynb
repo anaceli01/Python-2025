{
 "cells": [
  {
   "cell_type": "code",
   "execution_count": 171,
   "id": "49547721",
   "metadata": {},
   "outputs": [],
   "source": [
    "import numpy as np\n",
    "import pandas as pd\n",
    "import matplotlib.pyplot as plt"
   ]
  },
  {
   "cell_type": "markdown",
   "id": "e3355663",
   "metadata": {},
   "source": [
    "### CARGA DEL DATASET"
   ]
  },
  {
   "cell_type": "code",
   "execution_count": 172,
   "id": "af673908",
   "metadata": {},
   "outputs": [],
   "source": [
    "df = pd.read_csv('data/Titanic.csv', index_col='PassengerId')\n",
    "datos = df.head(20)"
   ]
  },
  {
   "cell_type": "markdown",
   "id": "206a3e57",
   "metadata": {},
   "source": [
    "### INFORMACIÓN DEL DATASET"
   ]
  },
  {
   "cell_type": "markdown",
   "id": "92d1f3cf",
   "metadata": {},
   "source": [
    "### INFORMACIÓN DEL DATASET"
   ]
  },
  {
   "cell_type": "code",
   "execution_count": 173,
   "id": "a55d845d",
   "metadata": {},
   "outputs": [
    {
     "name": "stdout",
     "output_type": "stream",
     "text": [
      "<class 'pandas.core.frame.DataFrame'>\n",
      "Index: 892 entries, 1 to 891\n",
      "Data columns (total 11 columns):\n",
      " #   Column    Non-Null Count  Dtype  \n",
      "---  ------    --------------  -----  \n",
      " 0   Survived  892 non-null    int64  \n",
      " 1   Pclass    892 non-null    int64  \n",
      " 2   Name      892 non-null    object \n",
      " 3   Sex       892 non-null    object \n",
      " 4   Age       715 non-null    float64\n",
      " 5   SibSp     892 non-null    int64  \n",
      " 6   Parch     892 non-null    int64  \n",
      " 7   Ticket    892 non-null    object \n",
      " 8   Fare      892 non-null    float64\n",
      " 9   Cabin     204 non-null    object \n",
      " 10  Embarked  890 non-null    object \n",
      "dtypes: float64(2), int64(4), object(5)\n",
      "memory usage: 83.6+ KB\n"
     ]
    }
   ],
   "source": [
    "df.info()"
   ]
  },
  {
   "cell_type": "code",
   "execution_count": 174,
   "id": "c5f7e70f",
   "metadata": {},
   "outputs": [
    {
     "data": {
      "text/html": [
       "<div>\n",
       "<style scoped>\n",
       "    .dataframe tbody tr th:only-of-type {\n",
       "        vertical-align: middle;\n",
       "    }\n",
       "\n",
       "    .dataframe tbody tr th {\n",
       "        vertical-align: top;\n",
       "    }\n",
       "\n",
       "    .dataframe thead th {\n",
       "        text-align: right;\n",
       "    }\n",
       "</style>\n",
       "<table border=\"1\" class=\"dataframe\">\n",
       "  <thead>\n",
       "    <tr style=\"text-align: right;\">\n",
       "      <th></th>\n",
       "      <th>Survived</th>\n",
       "      <th>Pclass</th>\n",
       "      <th>Age</th>\n",
       "      <th>SibSp</th>\n",
       "      <th>Parch</th>\n",
       "      <th>Fare</th>\n",
       "    </tr>\n",
       "  </thead>\n",
       "  <tbody>\n",
       "    <tr>\n",
       "      <th>count</th>\n",
       "      <td>892.000000</td>\n",
       "      <td>892.000000</td>\n",
       "      <td>715.000000</td>\n",
       "      <td>892.000000</td>\n",
       "      <td>892.000000</td>\n",
       "      <td>892.000000</td>\n",
       "    </tr>\n",
       "    <tr>\n",
       "      <th>mean</th>\n",
       "      <td>0.383408</td>\n",
       "      <td>2.309417</td>\n",
       "      <td>29.702336</td>\n",
       "      <td>0.522422</td>\n",
       "      <td>0.381166</td>\n",
       "      <td>32.176793</td>\n",
       "    </tr>\n",
       "    <tr>\n",
       "      <th>std</th>\n",
       "      <td>0.486489</td>\n",
       "      <td>0.835923</td>\n",
       "      <td>14.516576</td>\n",
       "      <td>1.102264</td>\n",
       "      <td>0.805706</td>\n",
       "      <td>49.672283</td>\n",
       "    </tr>\n",
       "    <tr>\n",
       "      <th>min</th>\n",
       "      <td>0.000000</td>\n",
       "      <td>1.000000</td>\n",
       "      <td>0.420000</td>\n",
       "      <td>0.000000</td>\n",
       "      <td>0.000000</td>\n",
       "      <td>0.000000</td>\n",
       "    </tr>\n",
       "    <tr>\n",
       "      <th>25%</th>\n",
       "      <td>0.000000</td>\n",
       "      <td>2.000000</td>\n",
       "      <td>20.250000</td>\n",
       "      <td>0.000000</td>\n",
       "      <td>0.000000</td>\n",
       "      <td>7.895800</td>\n",
       "    </tr>\n",
       "    <tr>\n",
       "      <th>50%</th>\n",
       "      <td>0.000000</td>\n",
       "      <td>3.000000</td>\n",
       "      <td>28.000000</td>\n",
       "      <td>0.000000</td>\n",
       "      <td>0.000000</td>\n",
       "      <td>14.454200</td>\n",
       "    </tr>\n",
       "    <tr>\n",
       "      <th>75%</th>\n",
       "      <td>1.000000</td>\n",
       "      <td>3.000000</td>\n",
       "      <td>38.000000</td>\n",
       "      <td>1.000000</td>\n",
       "      <td>0.000000</td>\n",
       "      <td>31.000000</td>\n",
       "    </tr>\n",
       "    <tr>\n",
       "      <th>max</th>\n",
       "      <td>1.000000</td>\n",
       "      <td>3.000000</td>\n",
       "      <td>80.000000</td>\n",
       "      <td>8.000000</td>\n",
       "      <td>6.000000</td>\n",
       "      <td>512.329200</td>\n",
       "    </tr>\n",
       "  </tbody>\n",
       "</table>\n",
       "</div>"
      ],
      "text/plain": [
       "         Survived      Pclass         Age       SibSp       Parch        Fare\n",
       "count  892.000000  892.000000  715.000000  892.000000  892.000000  892.000000\n",
       "mean     0.383408    2.309417   29.702336    0.522422    0.381166   32.176793\n",
       "std      0.486489    0.835923   14.516576    1.102264    0.805706   49.672283\n",
       "min      0.000000    1.000000    0.420000    0.000000    0.000000    0.000000\n",
       "25%      0.000000    2.000000   20.250000    0.000000    0.000000    7.895800\n",
       "50%      0.000000    3.000000   28.000000    0.000000    0.000000   14.454200\n",
       "75%      1.000000    3.000000   38.000000    1.000000    0.000000   31.000000\n",
       "max      1.000000    3.000000   80.000000    8.000000    6.000000  512.329200"
      ]
     },
     "execution_count": 174,
     "metadata": {},
     "output_type": "execute_result"
    }
   ],
   "source": [
    "df.describe()"
   ]
  },
  {
   "cell_type": "markdown",
   "id": "c84b7e7d",
   "metadata": {},
   "source": [
    "### CONSULTANDO Y ELIMINANDO DUPLICADOS"
   ]
  },
  {
   "cell_type": "code",
   "execution_count": 175,
   "id": "8cf6c4ba",
   "metadata": {},
   "outputs": [
    {
     "name": "stdout",
     "output_type": "stream",
     "text": [
      "Se encontraron 1 filas duplicadas. Procediendo a eliminarlas\n",
      "Dimensiones tras el paso de duplicados: (891, 11)\n"
     ]
    }
   ],
   "source": [
    "duplicados = df.duplicated().sum()\n",
    "if duplicados > 0:\n",
    "    print(f'Se encontraron {duplicados} filas duplicadas. Procediendo a eliminarlas')\n",
    "    df.drop_duplicates(inplace=True)\n",
    "else:\n",
    "    print('No se encontraron filas duplicadas. No es necesario eliminarlas')\n",
    "\n",
    "print('Dimensiones tras el paso de duplicados:', df.shape)"
   ]
  },
  {
   "cell_type": "markdown",
   "id": "c4e1e431",
   "metadata": {},
   "source": [
    "### IDENTIFICANDO Y ELIMINANDO NULOS"
   ]
  },
  {
   "cell_type": "markdown",
   "id": "16af38a8",
   "metadata": {},
   "source": [
    "Identificando nulos"
   ]
  },
  {
   "cell_type": "code",
   "execution_count": 176,
   "id": "cd6dd07e",
   "metadata": {},
   "outputs": [],
   "source": [
    "nulos_columnas = df.isnull().sum()\n",
    "nulos_filas = df[df.isnull().any(axis=1)] #eje x\n",
    "total_nulos = nulos_columnas.sum()\n"
   ]
  },
  {
   "cell_type": "code",
   "execution_count": 177,
   "id": "b15da46d",
   "metadata": {},
   "outputs": [
    {
     "data": {
      "text/plain": [
       "Survived      0\n",
       "Pclass        0\n",
       "Name          0\n",
       "Sex           0\n",
       "Age         177\n",
       "SibSp         0\n",
       "Parch         0\n",
       "Ticket        0\n",
       "Fare          0\n",
       "Cabin       687\n",
       "Embarked      2\n",
       "dtype: int64"
      ]
     },
     "execution_count": 177,
     "metadata": {},
     "output_type": "execute_result"
    }
   ],
   "source": [
    "nulos_columnas"
   ]
  },
  {
   "cell_type": "code",
   "execution_count": 178,
   "id": "c1d3a5a8",
   "metadata": {},
   "outputs": [
    {
     "data": {
      "text/html": [
       "<div>\n",
       "<style scoped>\n",
       "    .dataframe tbody tr th:only-of-type {\n",
       "        vertical-align: middle;\n",
       "    }\n",
       "\n",
       "    .dataframe tbody tr th {\n",
       "        vertical-align: top;\n",
       "    }\n",
       "\n",
       "    .dataframe thead th {\n",
       "        text-align: right;\n",
       "    }\n",
       "</style>\n",
       "<table border=\"1\" class=\"dataframe\">\n",
       "  <thead>\n",
       "    <tr style=\"text-align: right;\">\n",
       "      <th></th>\n",
       "      <th>Survived</th>\n",
       "      <th>Pclass</th>\n",
       "      <th>Name</th>\n",
       "      <th>Sex</th>\n",
       "      <th>Age</th>\n",
       "      <th>SibSp</th>\n",
       "      <th>Parch</th>\n",
       "      <th>Ticket</th>\n",
       "      <th>Fare</th>\n",
       "      <th>Cabin</th>\n",
       "      <th>Embarked</th>\n",
       "    </tr>\n",
       "    <tr>\n",
       "      <th>PassengerId</th>\n",
       "      <th></th>\n",
       "      <th></th>\n",
       "      <th></th>\n",
       "      <th></th>\n",
       "      <th></th>\n",
       "      <th></th>\n",
       "      <th></th>\n",
       "      <th></th>\n",
       "      <th></th>\n",
       "      <th></th>\n",
       "      <th></th>\n",
       "    </tr>\n",
       "  </thead>\n",
       "  <tbody>\n",
       "    <tr>\n",
       "      <th>1</th>\n",
       "      <td>0</td>\n",
       "      <td>3</td>\n",
       "      <td>Braund, Mr. Owen Harris</td>\n",
       "      <td>male</td>\n",
       "      <td>22.0</td>\n",
       "      <td>1</td>\n",
       "      <td>0</td>\n",
       "      <td>A/5 21171</td>\n",
       "      <td>7.2500</td>\n",
       "      <td>NaN</td>\n",
       "      <td>S</td>\n",
       "    </tr>\n",
       "    <tr>\n",
       "      <th>3</th>\n",
       "      <td>1</td>\n",
       "      <td>3</td>\n",
       "      <td>Heikkinen, Miss. Laina</td>\n",
       "      <td>female</td>\n",
       "      <td>26.0</td>\n",
       "      <td>0</td>\n",
       "      <td>0</td>\n",
       "      <td>STON/O2. 3101282</td>\n",
       "      <td>7.9250</td>\n",
       "      <td>NaN</td>\n",
       "      <td>S</td>\n",
       "    </tr>\n",
       "    <tr>\n",
       "      <th>5</th>\n",
       "      <td>0</td>\n",
       "      <td>3</td>\n",
       "      <td>Allen, Mr. William Henry</td>\n",
       "      <td>male</td>\n",
       "      <td>35.0</td>\n",
       "      <td>0</td>\n",
       "      <td>0</td>\n",
       "      <td>373450</td>\n",
       "      <td>8.0500</td>\n",
       "      <td>NaN</td>\n",
       "      <td>S</td>\n",
       "    </tr>\n",
       "    <tr>\n",
       "      <th>6</th>\n",
       "      <td>0</td>\n",
       "      <td>3</td>\n",
       "      <td>Moran, Mr. James</td>\n",
       "      <td>male</td>\n",
       "      <td>NaN</td>\n",
       "      <td>0</td>\n",
       "      <td>0</td>\n",
       "      <td>330877</td>\n",
       "      <td>8.4583</td>\n",
       "      <td>NaN</td>\n",
       "      <td>Q</td>\n",
       "    </tr>\n",
       "    <tr>\n",
       "      <th>8</th>\n",
       "      <td>0</td>\n",
       "      <td>3</td>\n",
       "      <td>Palsson, Master. Gosta Leonard</td>\n",
       "      <td>male</td>\n",
       "      <td>2.0</td>\n",
       "      <td>3</td>\n",
       "      <td>1</td>\n",
       "      <td>349909</td>\n",
       "      <td>21.0750</td>\n",
       "      <td>NaN</td>\n",
       "      <td>S</td>\n",
       "    </tr>\n",
       "    <tr>\n",
       "      <th>...</th>\n",
       "      <td>...</td>\n",
       "      <td>...</td>\n",
       "      <td>...</td>\n",
       "      <td>...</td>\n",
       "      <td>...</td>\n",
       "      <td>...</td>\n",
       "      <td>...</td>\n",
       "      <td>...</td>\n",
       "      <td>...</td>\n",
       "      <td>...</td>\n",
       "      <td>...</td>\n",
       "    </tr>\n",
       "    <tr>\n",
       "      <th>885</th>\n",
       "      <td>0</td>\n",
       "      <td>3</td>\n",
       "      <td>Sutehall, Mr. Henry Jr</td>\n",
       "      <td>male</td>\n",
       "      <td>25.0</td>\n",
       "      <td>0</td>\n",
       "      <td>0</td>\n",
       "      <td>SOTON/OQ 392076</td>\n",
       "      <td>7.0500</td>\n",
       "      <td>NaN</td>\n",
       "      <td>S</td>\n",
       "    </tr>\n",
       "    <tr>\n",
       "      <th>886</th>\n",
       "      <td>0</td>\n",
       "      <td>3</td>\n",
       "      <td>Rice, Mrs. William (Margaret Norton)</td>\n",
       "      <td>female</td>\n",
       "      <td>39.0</td>\n",
       "      <td>0</td>\n",
       "      <td>5</td>\n",
       "      <td>382652</td>\n",
       "      <td>29.1250</td>\n",
       "      <td>NaN</td>\n",
       "      <td>Q</td>\n",
       "    </tr>\n",
       "    <tr>\n",
       "      <th>887</th>\n",
       "      <td>0</td>\n",
       "      <td>2</td>\n",
       "      <td>Montvila, Rev. Juozas</td>\n",
       "      <td>male</td>\n",
       "      <td>27.0</td>\n",
       "      <td>0</td>\n",
       "      <td>0</td>\n",
       "      <td>211536</td>\n",
       "      <td>13.0000</td>\n",
       "      <td>NaN</td>\n",
       "      <td>S</td>\n",
       "    </tr>\n",
       "    <tr>\n",
       "      <th>889</th>\n",
       "      <td>0</td>\n",
       "      <td>3</td>\n",
       "      <td>Johnston, Miss. Catherine Helen \"Carrie\"</td>\n",
       "      <td>female</td>\n",
       "      <td>NaN</td>\n",
       "      <td>1</td>\n",
       "      <td>2</td>\n",
       "      <td>W./C. 6607</td>\n",
       "      <td>23.4500</td>\n",
       "      <td>NaN</td>\n",
       "      <td>S</td>\n",
       "    </tr>\n",
       "    <tr>\n",
       "      <th>891</th>\n",
       "      <td>0</td>\n",
       "      <td>3</td>\n",
       "      <td>Dooley, Mr. Patrick</td>\n",
       "      <td>male</td>\n",
       "      <td>32.0</td>\n",
       "      <td>0</td>\n",
       "      <td>0</td>\n",
       "      <td>370376</td>\n",
       "      <td>7.7500</td>\n",
       "      <td>NaN</td>\n",
       "      <td>Q</td>\n",
       "    </tr>\n",
       "  </tbody>\n",
       "</table>\n",
       "<p>708 rows × 11 columns</p>\n",
       "</div>"
      ],
      "text/plain": [
       "             Survived  Pclass                                      Name  \\\n",
       "PassengerId                                                               \n",
       "1                   0       3                   Braund, Mr. Owen Harris   \n",
       "3                   1       3                    Heikkinen, Miss. Laina   \n",
       "5                   0       3                  Allen, Mr. William Henry   \n",
       "6                   0       3                          Moran, Mr. James   \n",
       "8                   0       3            Palsson, Master. Gosta Leonard   \n",
       "...               ...     ...                                       ...   \n",
       "885                 0       3                    Sutehall, Mr. Henry Jr   \n",
       "886                 0       3      Rice, Mrs. William (Margaret Norton)   \n",
       "887                 0       2                     Montvila, Rev. Juozas   \n",
       "889                 0       3  Johnston, Miss. Catherine Helen \"Carrie\"   \n",
       "891                 0       3                       Dooley, Mr. Patrick   \n",
       "\n",
       "                Sex   Age  SibSp  Parch            Ticket     Fare Cabin  \\\n",
       "PassengerId                                                                \n",
       "1              male  22.0      1      0         A/5 21171   7.2500   NaN   \n",
       "3            female  26.0      0      0  STON/O2. 3101282   7.9250   NaN   \n",
       "5              male  35.0      0      0            373450   8.0500   NaN   \n",
       "6              male   NaN      0      0            330877   8.4583   NaN   \n",
       "8              male   2.0      3      1            349909  21.0750   NaN   \n",
       "...             ...   ...    ...    ...               ...      ...   ...   \n",
       "885            male  25.0      0      0   SOTON/OQ 392076   7.0500   NaN   \n",
       "886          female  39.0      0      5            382652  29.1250   NaN   \n",
       "887            male  27.0      0      0            211536  13.0000   NaN   \n",
       "889          female   NaN      1      2        W./C. 6607  23.4500   NaN   \n",
       "891            male  32.0      0      0            370376   7.7500   NaN   \n",
       "\n",
       "            Embarked  \n",
       "PassengerId           \n",
       "1                  S  \n",
       "3                  S  \n",
       "5                  S  \n",
       "6                  Q  \n",
       "8                  S  \n",
       "...              ...  \n",
       "885                S  \n",
       "886                Q  \n",
       "887                S  \n",
       "889                S  \n",
       "891                Q  \n",
       "\n",
       "[708 rows x 11 columns]"
      ]
     },
     "execution_count": 178,
     "metadata": {},
     "output_type": "execute_result"
    }
   ],
   "source": [
    "nulos_filas\n"
   ]
  },
  {
   "cell_type": "code",
   "execution_count": 179,
   "id": "0524fc86",
   "metadata": {},
   "outputs": [
    {
     "data": {
      "text/plain": [
       "np.int64(866)"
      ]
     },
     "execution_count": 179,
     "metadata": {},
     "output_type": "execute_result"
    }
   ],
   "source": [
    "total_nulos\n"
   ]
  },
  {
   "cell_type": "markdown",
   "id": "4cfbddf2",
   "metadata": {},
   "source": [
    "Eliminando nulos"
   ]
  },
  {
   "cell_type": "code",
   "execution_count": 180,
   "id": "3dda9d66",
   "metadata": {},
   "outputs": [
    {
     "name": "stdout",
     "output_type": "stream",
     "text": [
      "Reemplazo de nulos por la mediana\n",
      "Limpieza de nulos completa!\n",
      "No hay valores nulos que limpiar\n"
     ]
    }
   ],
   "source": [
    "if nulos_columnas['Age'] > 0:\n",
    "    df['Age'] = df['Age'].fillna(df['Age'].median())\n",
    "    print('Reemplazo de nulos por la mediana')\n",
    "else:\n",
    "    print('No hay valores nulos que limpiar')\n",
    "\n",
    "\n",
    "if nulos_columnas['Embarked'] > 0:\n",
    "    df.dropna(subset=['Embarked'], inplace=True)\n",
    "    print('Limpieza de nulos completa!')\n",
    "else:\n",
    "    print('No hay valores nulos que limpiar')\n",
    "    \n",
    "\n",
    "if nulos_columnas['Survived'] > 0:\n",
    "    df.dropna(subset=['Survived'], inplace=True)\n",
    "    print('Limpieza de nulos completada!')\n",
    "else:\n",
    "    print('No hay valores nulos que limpiar')"
   ]
  },
  {
   "cell_type": "markdown",
   "id": "70e5b4b0",
   "metadata": {},
   "source": [
    "### Eliminando Todos los Nulos"
   ]
  },
  {
   "cell_type": "code",
   "execution_count": 181,
   "id": "009c3af0",
   "metadata": {},
   "outputs": [],
   "source": [
    "datos_sin_nulos = df.dropna()"
   ]
  },
  {
   "cell_type": "markdown",
   "id": "f67dbb80",
   "metadata": {},
   "source": [
    "### GRAFICA"
   ]
  },
  {
   "cell_type": "markdown",
   "id": "9445910e",
   "metadata": {},
   "source": [
    "Encontrando la cantidad de Supervivientes y de Fallecidos"
   ]
  },
  {
   "cell_type": "code",
   "execution_count": 182,
   "id": "c401a485",
   "metadata": {},
   "outputs": [
    {
     "name": "stdout",
     "output_type": "stream",
     "text": [
      "Survived\n",
      "0    0.617548\n",
      "1    0.382452\n",
      "Name: proportion, dtype: float64\n",
      "Survived\n",
      "0    549\n",
      "1    340\n",
      "Name: count, dtype: int64\n"
     ]
    }
   ],
   "source": [
    "\n",
    "supervivientes = df['Survived'].value_counts(1)\n",
    "fallecidos = df['Survived'].value_counts(0)\n",
    "print(supervivientes)\n",
    "print(fallecidos)\n",
    "    \n"
   ]
  },
  {
   "cell_type": "markdown",
   "id": "54f9f0eb",
   "metadata": {},
   "source": [
    "Graficando"
   ]
  },
  {
   "cell_type": "code",
   "execution_count": 183,
   "id": "ffbf4eb5",
   "metadata": {},
   "outputs": [
    {
     "data": {
      "text/plain": [
       "<BarContainer object of 2 artists>"
      ]
     },
     "execution_count": 183,
     "metadata": {},
     "output_type": "execute_result"
    },
    {
     "data": {
      "image/png": "[encoded data removed]",
      "text/plain": [
       "<Figure size 640x480 with 1 Axes>"
      ]
     },
     "metadata": {},
     "output_type": "display_data"
    }
   ],
   "source": [
    "plt.title('Supervivientes y Fallecidos del Titanic')\n",
    "plt.xlabel('Estado') #Título del eje x\n",
    "plt.ylabel('Cantidad') #Título del eje y\n",
    "\n",
    "Estado = ['Supervivientes', 'Fallecidos']\n",
    "Cantidad = [340, 549]\n",
    "\n",
    "\n",
    "plt.bar(Estado, Cantidad)\n"
   ]
  },
  {
   "cell_type": "markdown",
   "id": "e734eec0",
   "metadata": {},
   "source": [
    "### Exportando el nuevo dataset sin nulos"
   ]
  },
  {
   "cell_type": "code",
   "execution_count": 184,
   "id": "67bd5509",
   "metadata": {},
   "outputs": [],
   "source": [
    "output = 'data/Titanic-clean.csv'\n",
    "datos_sin_nulos.to_csv(output)"
   ]
  }
 ],
 "metadata": {
  "kernelspec": {
   "display_name": "Python 3",
   "language": "python",
   "name": "python3"
  },
  "language_info": {
   "codemirror_mode": {
    "name": "ipython",
    "version": 3
   },
   "file_extension": ".py",
   "mimetype": "text/x-python",
   "name": "python",
   "nbconvert_exporter": "python",
   "pygments_lexer": "ipython3",
   "version": "3.13.3"
  }
 },
 "nbformat": 4,
 "nbformat_minor": 5
}
