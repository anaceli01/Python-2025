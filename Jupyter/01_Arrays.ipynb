{
  "cells": [
    {
      "cell_type": "markdown",
      "metadata": {
        "id": "xPOofaTEb7SK"
      },
      "source": [
        "### Importando bibliotecas\n",
        "\n",
        "\n"
      ]
    },
    {
      "cell_type": "markdown",
      "metadata": {
        "id": "0wVQR8veuUz8"
      },
      "source": []
    },
    {
      "cell_type": "code",
      "execution_count": 1,
      "metadata": {
        "id": "av_R-G_-ag8w"
      },
      "outputs": [],
      "source": [
        "import numpy as np # np es un alias para acortar el uso de numpy\n",
        "import sys # este paquete maneja fucniones de sistema"
      ]
    },
    {
      "cell_type": "markdown",
      "metadata": {
        "id": "g6arZy5KhjTB"
      },
      "source": [
        "###Creando una lista de 10 elementos"
      ]
    },
    {
      "cell_type": "code",
      "execution_count": 2,
      "metadata": {
        "colab": {
          "base_uri": "https://localhost:8080/"
        },
        "id": "hAXbGPWNhiiB",
        "outputId": "5b08a66c-af3d-4673-8236-bc9934b5b2c4"
      },
      "outputs": [
        {
          "data": {
            "text/plain": [
              "[1, 2, 3, 4, 5, 6, 7, 8, 9, 10]"
            ]
          },
          "execution_count": 2,
          "metadata": {},
          "output_type": "execute_result"
        }
      ],
      "source": [
        "lista1 = list(range(1,11))\n",
        "lista1"
      ]
    },
    {
      "cell_type": "markdown",
      "metadata": {
        "id": "mwb-AbnDud5e"
      },
      "source": [
        "Consultar el tipo de dato"
      ]
    },
    {
      "cell_type": "code",
      "execution_count": 3,
      "metadata": {
        "colab": {
          "base_uri": "https://localhost:8080/"
        },
        "id": "y02N463puhq4",
        "outputId": "2b8f0bd2-779a-45c4-b270-c9dcdbcd355a"
      },
      "outputs": [
        {
          "data": {
            "text/plain": [
              "[1, 2, 3, 4, 5, 6, 7, 8, 9, 10]"
            ]
          },
          "execution_count": 3,
          "metadata": {},
          "output_type": "execute_result"
        }
      ],
      "source": [
        "type(lista1)\n",
        "lista1"
      ]
    },
    {
      "cell_type": "markdown",
      "metadata": {
        "id": "pq0Wr1obh3WE"
      },
      "source": [
        "###Transformando una lista a Array\n",
        "Recordar que un 'array' es una estructura propia de la librería numpy."
      ]
    },
    {
      "cell_type": "code",
      "execution_count": 4,
      "metadata": {
        "colab": {
          "base_uri": "https://localhost:8080/"
        },
        "id": "XLVV5KDoh0xf",
        "outputId": "b9f55eb8-eacb-411d-98a6-842e7a5d6f5a"
      },
      "outputs": [
        {
          "data": {
            "text/plain": [
              "array([ 1,  2,  3,  4,  5,  6,  7,  8,  9, 10])"
            ]
          },
          "execution_count": 4,
          "metadata": {},
          "output_type": "execute_result"
        }
      ],
      "source": [
        "arreglo = np.array(lista1)\n",
        "arreglo"
      ]
    },
    {
      "cell_type": "markdown",
      "metadata": {
        "id": "eOwexhGDuHTH"
      },
      "source": [
        "Consultando el tipo numérico del array"
      ]
    },
    {
      "cell_type": "code",
      "execution_count": 5,
      "metadata": {
        "colab": {
          "base_uri": "https://localhost:8080/"
        },
        "id": "-J6415SMuDTp",
        "outputId": "1bc3ffda-dcf2-48d2-f5ca-c29b89ed0397"
      },
      "outputs": [
        {
          "data": {
            "text/plain": [
              "dtype('int64')"
            ]
          },
          "execution_count": 5,
          "metadata": {},
          "output_type": "execute_result"
        }
      ],
      "source": [
        "arreglo.dtype"
      ]
    },
    {
      "cell_type": "markdown",
      "metadata": {
        "id": "aCCOj_lordmv"
      },
      "source": [
        "###Crear una lista de solo unos\n",
        "\n"
      ]
    },
    {
      "cell_type": "code",
      "execution_count": 6,
      "metadata": {
        "colab": {
          "base_uri": "https://localhost:8080/"
        },
        "id": "D9cVP7M0rjDp",
        "outputId": "8e2aab1d-104a-4ced-f1c7-5145d939fee3"
      },
      "outputs": [
        {
          "data": {
            "text/plain": [
              "array([1., 1., 1., 1., 1., 1., 1., 1., 1., 1., 1., 1., 1., 1., 1., 1., 1.,\n",
              "       1., 1., 1., 1., 1., 1., 1., 1., 1., 1., 1., 1., 1., 1., 1., 1., 1.,\n",
              "       1., 1., 1., 1., 1., 1., 1., 1., 1., 1., 1., 1., 1., 1., 1., 1., 1.,\n",
              "       1., 1., 1., 1., 1., 1., 1., 1., 1., 1., 1., 1., 1., 1., 1., 1., 1.,\n",
              "       1., 1., 1., 1., 1., 1., 1., 1., 1., 1., 1., 1., 1., 1., 1., 1., 1.,\n",
              "       1., 1., 1., 1., 1., 1., 1., 1., 1., 1., 1., 1., 1., 1., 1.])"
            ]
          },
          "execution_count": 6,
          "metadata": {},
          "output_type": "execute_result"
        }
      ],
      "source": [
        "unos = np.ones(100)\n",
        "unos"
      ]
    },
    {
      "cell_type": "markdown",
      "metadata": {
        "id": "YUSxlU6jrzQo"
      },
      "source": [
        "###Creando una lista de solo ceros\n"
      ]
    },
    {
      "cell_type": "code",
      "execution_count": 7,
      "metadata": {
        "colab": {
          "base_uri": "https://localhost:8080/"
        },
        "id": "VpjpbqGmr4Gh",
        "outputId": "2b4489a4-5254-4589-e1ec-1ffa20a8ce94"
      },
      "outputs": [
        {
          "data": {
            "text/plain": [
              "array([0., 0., 0., 0., 0., 0., 0., 0., 0., 0., 0., 0., 0., 0., 0., 0., 0.,\n",
              "       0., 0., 0., 0., 0., 0., 0., 0., 0., 0., 0., 0., 0., 0., 0., 0., 0.,\n",
              "       0., 0., 0., 0., 0., 0., 0., 0., 0., 0., 0., 0., 0., 0., 0., 0., 0.,\n",
              "       0., 0., 0., 0., 0., 0., 0., 0., 0., 0., 0., 0., 0., 0., 0., 0., 0.,\n",
              "       0., 0., 0., 0., 0., 0., 0., 0., 0., 0., 0., 0., 0., 0., 0., 0., 0.,\n",
              "       0., 0., 0., 0., 0., 0., 0., 0., 0., 0., 0., 0., 0., 0., 0.])"
            ]
          },
          "execution_count": 7,
          "metadata": {},
          "output_type": "execute_result"
        }
      ],
      "source": [
        "ceros = np.zeros(100)\n",
        "ceros"
      ]
    },
    {
      "cell_type": "markdown",
      "metadata": {
        "id": "w9AuAE2ku2WU"
      },
      "source": [
        "### Lista de Datos Compuestos (Transformando a Array)"
      ]
    },
    {
      "cell_type": "code",
      "execution_count": 8,
      "metadata": {
        "colab": {
          "base_uri": "https://localhost:8080/"
        },
        "id": "TgtRHtd6vbeG",
        "outputId": "15d1ecfc-db0a-42dc-cf5e-bbbac0481c40"
      },
      "outputs": [
        {
          "data": {
            "text/plain": [
              "['Victor', 2, 5, 6, True]"
            ]
          },
          "execution_count": 8,
          "metadata": {},
          "output_type": "execute_result"
        }
      ],
      "source": [
        "lista2 = ['Victor', 2, 5, 6, True]\n",
        "lista2"
      ]
    },
    {
      "cell_type": "markdown",
      "metadata": {
        "id": "ccaylhAGvmkP"
      },
      "source": [
        "### Transformando la lista mixta en array\n",
        "U32 Hace referencia al estándae UNICODE de carácteres"
      ]
    },
    {
      "cell_type": "code",
      "execution_count": 9,
      "metadata": {
        "colab": {
          "base_uri": "https://localhost:8080/"
        },
        "id": "5ApYbLHCvp5_",
        "outputId": "fcb31ce5-b8b5-45ce-de10-6b3da5c8f00f"
      },
      "outputs": [
        {
          "data": {
            "text/plain": [
              "['Victor', 2, 5, 6, True]"
            ]
          },
          "execution_count": 9,
          "metadata": {},
          "output_type": "execute_result"
        }
      ],
      "source": [
        "arreglo2 = np.array(lista2)\n",
        "lista2"
      ]
    },
    {
      "cell_type": "markdown",
      "metadata": {
        "id": "UNQ_LQvUv_sC"
      },
      "source": [
        "### Consultando la cantidad de memoria ocupada por estructura (Paquete Sys)"
      ]
    },
    {
      "cell_type": "code",
      "execution_count": 10,
      "metadata": {
        "colab": {
          "base_uri": "https://localhost:8080/"
        },
        "id": "fF23moibwIns",
        "outputId": "2970247b-7a86-4651-9d40-02e67feb12b1"
      },
      "outputs": [
        {
          "name": "stdout",
          "output_type": "stream",
          "text": [
            "Memoria ocupada por la lista: 136 bytes\n",
            "Memoria ocupada por el array: 80 bytes\n"
          ]
        }
      ],
      "source": [
        "memoria_lista = sys.getsizeof(lista1)\n",
        "memoria_arreglo = arreglo.nbytes\n",
        "\n",
        "print(f'Memoria ocupada por la lista: {memoria_lista} bytes')\n",
        "print(f'Memoria ocupada por el array: {memoria_arreglo} bytes')"
      ]
    },
    {
      "cell_type": "markdown",
      "metadata": {
        "id": "iss4hvyVwlIb"
      },
      "source": [
        "### Otro método de Numpy"
      ]
    },
    {
      "cell_type": "code",
      "execution_count": 11,
      "metadata": {
        "colab": {
          "base_uri": "https://localhost:8080/"
        },
        "id": "lg4r574Ywo2r",
        "outputId": "a2db799d-0a33-43eb-e385-f5b216875388"
      },
      "outputs": [
        {
          "name": "stdout",
          "output_type": "stream",
          "text": [
            "Shape: (10,)\n",
            "Dimensions 1\n",
            "Tamaño: 10\n",
            "Tipo de dato: int64\n",
            "Bytes/elem: 8\n"
          ]
        }
      ],
      "source": [
        "print('Shape:',          arreglo.shape)         #Dimensiones\n",
        "print('Dimensions',      arreglo.ndim)          #Número de ejes\n",
        "print('Tamaño:',         arreglo.size)          #Total de elementos\n",
        "print('Tipo de dato:',   arreglo.dtype)         #\n",
        "print('Bytes/elem:',     arreglo.itemsize)      #Tamaño en bytes de cada elemento"
      ]
    },
    {
      "cell_type": "markdown",
      "metadata": {
        "id": "AFND4n_cxe_A"
      },
      "source": [
        "### Obteniendo Promedio del Arreglo"
      ]
    },
    {
      "cell_type": "code",
      "execution_count": 12,
      "metadata": {
        "colab": {
          "base_uri": "https://localhost:8080/"
        },
        "id": "84zbNyf8xi2q",
        "outputId": "312ea858-f4b4-4929-ac9e-0efc1158d9b2"
      },
      "outputs": [
        {
          "data": {
            "text/plain": [
              "np.float64(5.5)"
            ]
          },
          "execution_count": 12,
          "metadata": {},
          "output_type": "execute_result"
        }
      ],
      "source": [
        "promedio = np.mean(lista1)\n",
        "promedio"
      ]
    },
    {
      "cell_type": "markdown",
      "metadata": {
        "id": "HvyuwTMRxs0K"
      },
      "source": [
        "### Transformando el Arreglo de Int a Float\n",
        "El método astype() transforma los elementos del arreglo a un tipo determinado de dato numérico."
      ]
    },
    {
      "cell_type": "code",
      "execution_count": 13,
      "metadata": {
        "colab": {
          "base_uri": "https://localhost:8080/"
        },
        "id": "UblY9BWrx0hH",
        "outputId": "40470985-b008-49f1-ed3a-d78484ec73be"
      },
      "outputs": [
        {
          "data": {
            "text/plain": [
              "array([ 1.,  2.,  3.,  4.,  5.,  6.,  7.,  8.,  9., 10.], dtype=float32)"
            ]
          },
          "execution_count": 13,
          "metadata": {},
          "output_type": "execute_result"
        }
      ],
      "source": [
        "new_arreglo = arreglo.astype(np.float32) #Tipo de número flotante '32'\n",
        "new_arreglo"
      ]
    },
    {
      "cell_type": "code",
      "execution_count": 14,
      "metadata": {
        "colab": {
          "base_uri": "https://localhost:8080/"
        },
        "id": "wCoT0pOPyqh2",
        "outputId": "2680c874-a2a8-4f11-f18a-c9929d1daf81"
      },
      "outputs": [
        {
          "data": {
            "text/plain": [
              "array([ 1.,  2.,  3.,  4.,  5.,  6.,  7.,  8.,  9., 10.], dtype=float16)"
            ]
          },
          "execution_count": 14,
          "metadata": {},
          "output_type": "execute_result"
        }
      ],
      "source": [
        "new_arreglo2 = arreglo.astype(np.float16) #Tipo de número flotante '16'\n",
        "new_arreglo2"
      ]
    },
    {
      "cell_type": "code",
      "execution_count": 15,
      "metadata": {
        "colab": {
          "base_uri": "https://localhost:8080/"
        },
        "id": "p6OakGRMz28h",
        "outputId": "cee246c2-1701-4144-ab7b-1d3008e27e96"
      },
      "outputs": [
        {
          "data": {
            "text/plain": [
              "dtype('float32')"
            ]
          },
          "execution_count": 15,
          "metadata": {},
          "output_type": "execute_result"
        }
      ],
      "source": [
        "new_arreglo.dtype\n"
      ]
    },
    {
      "cell_type": "markdown",
      "metadata": {
        "id": "eErf8yRhz67d"
      },
      "source": [
        "### Aplicando el Paquete Random\n",
        "Se genera una lista de números enteros aleatorios, que van desde el 1 al 100"
      ]
    },
    {
      "cell_type": "code",
      "execution_count": 16,
      "metadata": {
        "colab": {
          "base_uri": "https://localhost:8080/"
        },
        "id": "cCfk6lzv052h",
        "outputId": "f81588c4-3e9a-4cbe-800d-460d103d7203"
      },
      "outputs": [
        {
          "data": {
            "text/plain": [
              "0.9421194883354532"
            ]
          },
          "execution_count": 16,
          "metadata": {},
          "output_type": "execute_result"
        }
      ],
      "source": [
        "np.random.rand()"
      ]
    },
    {
      "cell_type": "code",
      "execution_count": 17,
      "metadata": {
        "colab": {
          "base_uri": "https://localhost:8080/"
        },
        "id": "7e1g4OQ-z_sI",
        "outputId": "39c201c8-bf5b-4ea2-f02b-694bc8333d76"
      },
      "outputs": [
        {
          "data": {
            "text/plain": [
              "62"
            ]
          },
          "execution_count": 17,
          "metadata": {},
          "output_type": "execute_result"
        }
      ],
      "source": [
        "np.random.randint(1,100)"
      ]
    },
    {
      "cell_type": "code",
      "execution_count": 18,
      "metadata": {
        "id": "iPl-19t51k-s"
      },
      "outputs": [
        {
          "data": {
            "text/plain": [
              "array([[0.26931456, 0.83608301, 0.44705771, 0.97408492, 0.82331367,\n",
              "        0.01347606, 0.90159228, 0.88171437, 0.39442415, 0.95447578,\n",
              "        0.22816924, 0.69486853, 0.90354588, 0.55170442, 0.6084166 ,\n",
              "        0.25434597, 0.74111213, 0.81025289, 0.84678044, 0.42710492,\n",
              "        0.75111193, 0.89630789, 0.36587475, 0.47622779, 0.61142268,\n",
              "        0.391645  , 0.02818447, 0.80679731, 0.28454965, 0.13943221,\n",
              "        0.73740386, 0.14950296, 0.04413305, 0.36236923, 0.54259794,\n",
              "        0.25596727, 0.57103266, 0.91412458, 0.30557117, 0.16429434,\n",
              "        0.89948274, 0.58740847, 0.11520256, 0.44013751, 0.73368045,\n",
              "        0.21739054, 0.41394877, 0.71919373, 0.06781124, 0.7584507 ,\n",
              "        0.17272432, 0.91229657, 0.33913804, 0.54197849, 0.34513684,\n",
              "        0.80850973, 0.39669813, 0.05525006, 0.64632442, 0.31912109,\n",
              "        0.60989836, 0.06380586, 0.09855448, 0.74827193, 0.51014358,\n",
              "        0.20176892, 0.07499105, 0.36826017, 0.29058092, 0.97675739,\n",
              "        0.12009679, 0.44343737, 0.11146387, 0.97814657, 0.63420555,\n",
              "        0.59357477, 0.13507882, 0.97661853, 0.04256833, 0.55117222,\n",
              "        0.38200617, 0.19736994, 0.79472848, 0.57214572, 0.21267221,\n",
              "        0.15639927, 0.78440325, 0.271955  , 0.22396489, 0.25145942,\n",
              "        0.59522259, 0.58954674, 0.91191217, 0.55100761, 0.67816502,\n",
              "        0.65093598, 0.80671379, 0.00915202, 0.24680557, 0.41894473]])"
            ]
          },
          "execution_count": 18,
          "metadata": {},
          "output_type": "execute_result"
        }
      ],
      "source": [
        "np.random.rand(1,100)"
      ]
    },
    {
      "cell_type": "code",
      "execution_count": 19,
      "metadata": {
        "colab": {
          "base_uri": "https://localhost:8080/"
        },
        "id": "1WtaVOjA0RsP",
        "outputId": "fdec1e52-de1b-44eb-c083-745801d8a7df"
      },
      "outputs": [
        {
          "data": {
            "text/plain": [
              "7"
            ]
          },
          "execution_count": 19,
          "metadata": {},
          "output_type": "execute_result"
        }
      ],
      "source": [
        "np.random.randint(10)"
      ]
    },
    {
      "cell_type": "code",
      "execution_count": 20,
      "metadata": {
        "id": "_y6IY_Gv1rF0"
      },
      "outputs": [
        {
          "data": {
            "text/plain": [
              "array([0.52681002, 0.54227723, 0.32999392, 0.00692622, 0.1501802 ,\n",
              "       0.07780273, 0.06003929, 0.78424656, 0.59333871, 0.29641801])"
            ]
          },
          "execution_count": 20,
          "metadata": {},
          "output_type": "execute_result"
        }
      ],
      "source": [
        "np.random.rand(10)"
      ]
    },
    {
      "cell_type": "code",
      "execution_count": 21,
      "metadata": {
        "colab": {
          "base_uri": "https://localhost:8080/"
        },
        "id": "vH6BpQwC1uqt",
        "outputId": "280de213-4a32-4bad-f72a-9c46e84a914b"
      },
      "outputs": [
        {
          "data": {
            "text/plain": [
              "array([ 5, 31, 69, 89, 36, 97, 21, 14, 24, 33], dtype=int32)"
            ]
          },
          "execution_count": 21,
          "metadata": {},
          "output_type": "execute_result"
        }
      ],
      "source": [
        "np.random.randint(1, 100, 10) #Generando  10 números enteros aleatorioa del 1 al 100"
      ]
    },
    {
      "cell_type": "code",
      "execution_count": 22,
      "metadata": {
        "id": "RC0VeB130-vC"
      },
      "outputs": [
        {
          "data": {
            "text/plain": [
              "array([[[0.69908137, 0.95113638, 0.52062987, 0.11584215, 0.83203819,\n",
              "         0.34020026, 0.64594656, 0.77198855, 0.86475398, 0.41229521],\n",
              "        [0.70434931, 0.58608808, 0.12677323, 0.32909126, 0.29868062,\n",
              "         0.32420314, 0.85340815, 0.74659339, 0.78107763, 0.57807851],\n",
              "        [0.58033634, 0.93163493, 0.15954886, 0.53341303, 0.3966523 ,\n",
              "         0.96724406, 0.33011784, 0.23109722, 0.29393688, 0.14779253],\n",
              "        [0.03560371, 0.91675044, 0.62776188, 0.19507894, 0.16302211,\n",
              "         0.16635625, 0.92835632, 0.75701655, 0.16657756, 0.41015213],\n",
              "        [0.1786463 , 0.7855941 , 0.55274285, 0.0494913 , 0.30774467,\n",
              "         0.61667639, 0.4406111 , 0.11110512, 0.84343788, 0.87002994],\n",
              "        [0.74202637, 0.37284539, 0.22982525, 0.66757224, 0.24354468,\n",
              "         0.11998175, 0.43851699, 0.80773286, 0.79566514, 0.85239406],\n",
              "        [0.58739337, 0.93344094, 0.27304726, 0.72303953, 0.98766021,\n",
              "         0.63073479, 0.2946691 , 0.87120677, 0.91024587, 0.22002136],\n",
              "        [0.36437495, 0.14043187, 0.00518675, 0.65249434, 0.91326832,\n",
              "         0.00612308, 0.52192252, 0.65463485, 0.47450331, 0.60292366],\n",
              "        [0.71427313, 0.61223024, 0.67703226, 0.0182424 , 0.81856979,\n",
              "         0.68442669, 0.9788582 , 0.08788361, 0.47210342, 0.80686773],\n",
              "        [0.35109165, 0.90008229, 0.62101621, 0.77246726, 0.39186999,\n",
              "         0.48898944, 0.3826047 , 0.73953149, 0.66166104, 0.41940914]]])"
            ]
          },
          "execution_count": 22,
          "metadata": {},
          "output_type": "execute_result"
        }
      ],
      "source": [
        "np.random.rand(1, 10, 10)"
      ]
    },
    {
      "cell_type": "markdown",
      "metadata": {
        "id": "AoqqKih527Bs"
      },
      "source": [
        "### Método Arange"
      ]
    },
    {
      "cell_type": "code",
      "execution_count": 23,
      "metadata": {
        "colab": {
          "base_uri": "https://localhost:8080/"
        },
        "id": "f-k0hCHX3Aol",
        "outputId": "5f9d3e90-55c8-4d01-82f7-cc510f52afb7"
      },
      "outputs": [
        {
          "data": {
            "text/plain": [
              "array([ 1,  2,  3,  4,  5,  6,  7,  8,  9, 10])"
            ]
          },
          "execution_count": 23,
          "metadata": {},
          "output_type": "execute_result"
        }
      ],
      "source": [
        "arreglo_3 = np.arange(1,11)\n",
        "arreglo_3"
      ]
    }
  ],
  "metadata": {
    "colab": {
      "provenance": []
    },
    "kernelspec": {
      "display_name": "Python 3",
      "name": "python3"
    },
    "language_info": {
      "codemirror_mode": {
        "name": "ipython",
        "version": 3
      },
      "file_extension": ".py",
      "mimetype": "text/x-python",
      "name": "python",
      "nbconvert_exporter": "python",
      "pygments_lexer": "ipython3",
      "version": "3.13.3"
    }
  },
  "nbformat": 4,
  "nbformat_minor": 0
}
