{
  "nbformat": 4,
  "nbformat_minor": 0,
  "metadata": {
    "colab": {
      "provenance": []
    },
    "kernelspec": {
      "name": "python3",
      "display_name": "Python 3"
    },
    "language_info": {
      "name": "python"
    }
  },
  "cells": [
    {
      "cell_type": "markdown",
      "source": [
        "### Importando bibliotecas\n",
        "\n",
        "\n"
      ],
      "metadata": {
        "id": "xPOofaTEb7SK"
      }
    },
    {
      "cell_type": "markdown",
      "source": [],
      "metadata": {
        "id": "0wVQR8veuUz8"
      }
    },
    {
      "cell_type": "code",
      "execution_count": 23,
      "metadata": {
        "id": "av_R-G_-ag8w"
      },
      "outputs": [],
      "source": [
        "import numpy as np # np es un alias para acortar el uso de numpy\n",
        "import sys # este paquete maneja fucniones de sistema"
      ]
    },
    {
      "cell_type": "markdown",
      "source": [
        "###Creando una lista de 10 elementos"
      ],
      "metadata": {
        "id": "g6arZy5KhjTB"
      }
    },
    {
      "cell_type": "code",
      "source": [
        "lista1 = list(range(1,11))\n",
        "lista1"
      ],
      "metadata": {
        "colab": {
          "base_uri": "https://localhost:8080/"
        },
        "id": "hAXbGPWNhiiB",
        "outputId": "5b08a66c-af3d-4673-8236-bc9934b5b2c4"
      },
      "execution_count": 24,
      "outputs": [
        {
          "output_type": "execute_result",
          "data": {
            "text/plain": [
              "[1, 2, 3, 4, 5, 6, 7, 8, 9, 10]"
            ]
          },
          "metadata": {},
          "execution_count": 24
        }
      ]
    },
    {
      "cell_type": "markdown",
      "source": [
        "Consultar el tipo de dato"
      ],
      "metadata": {
        "id": "mwb-AbnDud5e"
      }
    },
    {
      "cell_type": "code",
      "source": [
        "type(lista1)\n",
        "lista1"
      ],
      "metadata": {
        "colab": {
          "base_uri": "https://localhost:8080/"
        },
        "id": "y02N463puhq4",
        "outputId": "2b8f0bd2-779a-45c4-b270-c9dcdbcd355a"
      },
      "execution_count": 25,
      "outputs": [
        {
          "output_type": "execute_result",
          "data": {
            "text/plain": [
              "[1, 2, 3, 4, 5, 6, 7, 8, 9, 10]"
            ]
          },
          "metadata": {},
          "execution_count": 25
        }
      ]
    },
    {
      "cell_type": "markdown",
      "source": [
        "###Transformando una lista a Array\n",
        "Recordar que un 'array' es una estructura propia de la librería numpy."
      ],
      "metadata": {
        "id": "pq0Wr1obh3WE"
      }
    },
    {
      "cell_type": "code",
      "source": [
        "arreglo = np.array(lista1)\n",
        "arreglo"
      ],
      "metadata": {
        "colab": {
          "base_uri": "https://localhost:8080/"
        },
        "id": "XLVV5KDoh0xf",
        "outputId": "b9f55eb8-eacb-411d-98a6-842e7a5d6f5a"
      },
      "execution_count": 26,
      "outputs": [
        {
          "output_type": "execute_result",
          "data": {
            "text/plain": [
              "array([ 1,  2,  3,  4,  5,  6,  7,  8,  9, 10])"
            ]
          },
          "metadata": {},
          "execution_count": 26
        }
      ]
    },
    {
      "cell_type": "markdown",
      "source": [
        "Consultando el tipo numérico del array"
      ],
      "metadata": {
        "id": "eOwexhGDuHTH"
      }
    },
    {
      "cell_type": "code",
      "source": [
        "arreglo.dtype"
      ],
      "metadata": {
        "colab": {
          "base_uri": "https://localhost:8080/"
        },
        "id": "-J6415SMuDTp",
        "outputId": "1bc3ffda-dcf2-48d2-f5ca-c29b89ed0397"
      },
      "execution_count": 27,
      "outputs": [
        {
          "output_type": "execute_result",
          "data": {
            "text/plain": [
              "dtype('int64')"
            ]
          },
          "metadata": {},
          "execution_count": 27
        }
      ]
    },
    {
      "cell_type": "markdown",
      "source": [
        "###Crear una lista de solo unos\n",
        "\n"
      ],
      "metadata": {
        "id": "aCCOj_lordmv"
      }
    },
    {
      "cell_type": "code",
      "source": [
        "unos = np.ones(100)\n",
        "unos"
      ],
      "metadata": {
        "colab": {
          "base_uri": "https://localhost:8080/"
        },
        "id": "D9cVP7M0rjDp",
        "outputId": "8e2aab1d-104a-4ced-f1c7-5145d939fee3"
      },
      "execution_count": 28,
      "outputs": [
        {
          "output_type": "execute_result",
          "data": {
            "text/plain": [
              "array([1., 1., 1., 1., 1., 1., 1., 1., 1., 1., 1., 1., 1., 1., 1., 1., 1.,\n",
              "       1., 1., 1., 1., 1., 1., 1., 1., 1., 1., 1., 1., 1., 1., 1., 1., 1.,\n",
              "       1., 1., 1., 1., 1., 1., 1., 1., 1., 1., 1., 1., 1., 1., 1., 1., 1.,\n",
              "       1., 1., 1., 1., 1., 1., 1., 1., 1., 1., 1., 1., 1., 1., 1., 1., 1.,\n",
              "       1., 1., 1., 1., 1., 1., 1., 1., 1., 1., 1., 1., 1., 1., 1., 1., 1.,\n",
              "       1., 1., 1., 1., 1., 1., 1., 1., 1., 1., 1., 1., 1., 1., 1.])"
            ]
          },
          "metadata": {},
          "execution_count": 28
        }
      ]
    },
    {
      "cell_type": "markdown",
      "source": [
        "###Creando una lista de solo ceros\n"
      ],
      "metadata": {
        "id": "YUSxlU6jrzQo"
      }
    },
    {
      "cell_type": "code",
      "source": [
        "ceros = np.zeros(100)\n",
        "ceros"
      ],
      "metadata": {
        "colab": {
          "base_uri": "https://localhost:8080/"
        },
        "id": "VpjpbqGmr4Gh",
        "outputId": "2b4489a4-5254-4589-e1ec-1ffa20a8ce94"
      },
      "execution_count": 29,
      "outputs": [
        {
          "output_type": "execute_result",
          "data": {
            "text/plain": [
              "array([0., 0., 0., 0., 0., 0., 0., 0., 0., 0., 0., 0., 0., 0., 0., 0., 0.,\n",
              "       0., 0., 0., 0., 0., 0., 0., 0., 0., 0., 0., 0., 0., 0., 0., 0., 0.,\n",
              "       0., 0., 0., 0., 0., 0., 0., 0., 0., 0., 0., 0., 0., 0., 0., 0., 0.,\n",
              "       0., 0., 0., 0., 0., 0., 0., 0., 0., 0., 0., 0., 0., 0., 0., 0., 0.,\n",
              "       0., 0., 0., 0., 0., 0., 0., 0., 0., 0., 0., 0., 0., 0., 0., 0., 0.,\n",
              "       0., 0., 0., 0., 0., 0., 0., 0., 0., 0., 0., 0., 0., 0., 0.])"
            ]
          },
          "metadata": {},
          "execution_count": 29
        }
      ]
    },
    {
      "cell_type": "markdown",
      "source": [
        "### Lista de Datos Compuestos (Transformando a Array)"
      ],
      "metadata": {
        "id": "w9AuAE2ku2WU"
      }
    },
    {
      "cell_type": "code",
      "source": [
        "lista2 = ['Victor', 2, 5, 6, True]\n",
        "lista2"
      ],
      "metadata": {
        "colab": {
          "base_uri": "https://localhost:8080/"
        },
        "id": "TgtRHtd6vbeG",
        "outputId": "15d1ecfc-db0a-42dc-cf5e-bbbac0481c40"
      },
      "execution_count": 30,
      "outputs": [
        {
          "output_type": "execute_result",
          "data": {
            "text/plain": [
              "['Victor', 2, 5, 6, True]"
            ]
          },
          "metadata": {},
          "execution_count": 30
        }
      ]
    },
    {
      "cell_type": "markdown",
      "source": [
        "### Transformando la lista mixta en array\n",
        "U32 Hace referencia al estándae UNICODE de carácteres"
      ],
      "metadata": {
        "id": "ccaylhAGvmkP"
      }
    },
    {
      "cell_type": "code",
      "source": [
        "arreglo2 = np.array(lista2)\n",
        "lista2"
      ],
      "metadata": {
        "colab": {
          "base_uri": "https://localhost:8080/"
        },
        "id": "5ApYbLHCvp5_",
        "outputId": "fcb31ce5-b8b5-45ce-de10-6b3da5c8f00f"
      },
      "execution_count": 31,
      "outputs": [
        {
          "output_type": "execute_result",
          "data": {
            "text/plain": [
              "['Victor', 2, 5, 6, True]"
            ]
          },
          "metadata": {},
          "execution_count": 31
        }
      ]
    },
    {
      "cell_type": "markdown",
      "source": [
        "### Consultando la cantidad de memoria ocupada por estructura (Paquete Sys)"
      ],
      "metadata": {
        "id": "UNQ_LQvUv_sC"
      }
    },
    {
      "cell_type": "code",
      "source": [
        "memoria_lista = sys.getsizeof(lista1)\n",
        "memoria_arreglo = arreglo.nbytes\n",
        "\n",
        "print(f'Memoria ocupada por la lista: {memoria_lista} bytes')\n",
        "print(f'Memoria ocupada por el array: {memoria_arreglo} bytes')"
      ],
      "metadata": {
        "colab": {
          "base_uri": "https://localhost:8080/"
        },
        "id": "fF23moibwIns",
        "outputId": "2970247b-7a86-4651-9d40-02e67feb12b1"
      },
      "execution_count": 32,
      "outputs": [
        {
          "output_type": "stream",
          "name": "stdout",
          "text": [
            "Memoria ocupada por la lista: 136 bytes\n",
            "Memoria ocupada por el array: 80 bytes\n"
          ]
        }
      ]
    },
    {
      "cell_type": "markdown",
      "source": [
        "### Otro método de Numpy"
      ],
      "metadata": {
        "id": "iss4hvyVwlIb"
      }
    },
    {
      "cell_type": "code",
      "source": [
        "print('Shape:',          arreglo.shape)         #Dimensiones\n",
        "print('Dimensions',      arreglo.ndim)          #Número de ejes\n",
        "print('Tamaño:',         arreglo.size)          #Total de elementos\n",
        "print('Tipo de dato:',   arreglo.dtype)         #\n",
        "print('Bytes/elem:',     arreglo.itemsize)      #Tamaño en bytes de cada elemento"
      ],
      "metadata": {
        "colab": {
          "base_uri": "https://localhost:8080/"
        },
        "id": "lg4r574Ywo2r",
        "outputId": "a2db799d-0a33-43eb-e385-f5b216875388"
      },
      "execution_count": 33,
      "outputs": [
        {
          "output_type": "stream",
          "name": "stdout",
          "text": [
            "Shape: (10,)\n",
            "Dimensions 1\n",
            "Tamaño: 10\n",
            "Tipo de dato: int64\n",
            "Bytes/elem: 8\n"
          ]
        }
      ]
    },
    {
      "cell_type": "markdown",
      "source": [
        "### Obteniendo Promedio del Arreglo"
      ],
      "metadata": {
        "id": "AFND4n_cxe_A"
      }
    },
    {
      "cell_type": "code",
      "source": [
        "promedio = np.mean(lista1)\n",
        "promedio"
      ],
      "metadata": {
        "colab": {
          "base_uri": "https://localhost:8080/"
        },
        "id": "84zbNyf8xi2q",
        "outputId": "312ea858-f4b4-4929-ac9e-0efc1158d9b2"
      },
      "execution_count": 34,
      "outputs": [
        {
          "output_type": "execute_result",
          "data": {
            "text/plain": [
              "np.float64(5.5)"
            ]
          },
          "metadata": {},
          "execution_count": 34
        }
      ]
    },
    {
      "cell_type": "markdown",
      "source": [
        "### Transformando el Arreglo de Int a Float\n",
        "El método astype() transforma los elementos del arreglo a un tipo determinado de dato numérico."
      ],
      "metadata": {
        "id": "HvyuwTMRxs0K"
      }
    },
    {
      "cell_type": "code",
      "source": [
        "new_arreglo = arreglo.astype(np.float32) #Tipo de número flotante '32'\n",
        "new_arreglo"
      ],
      "metadata": {
        "colab": {
          "base_uri": "https://localhost:8080/"
        },
        "id": "UblY9BWrx0hH",
        "outputId": "40470985-b008-49f1-ed3a-d78484ec73be"
      },
      "execution_count": 35,
      "outputs": [
        {
          "output_type": "execute_result",
          "data": {
            "text/plain": [
              "array([ 1.,  2.,  3.,  4.,  5.,  6.,  7.,  8.,  9., 10.], dtype=float32)"
            ]
          },
          "metadata": {},
          "execution_count": 35
        }
      ]
    },
    {
      "cell_type": "code",
      "source": [
        "new_arreglo2 = arreglo.astype(np.float16) #Tipo de número flotante '16'\n",
        "new_arreglo2"
      ],
      "metadata": {
        "colab": {
          "base_uri": "https://localhost:8080/"
        },
        "id": "wCoT0pOPyqh2",
        "outputId": "2680c874-a2a8-4f11-f18a-c9929d1daf81"
      },
      "execution_count": 36,
      "outputs": [
        {
          "output_type": "execute_result",
          "data": {
            "text/plain": [
              "array([ 1.,  2.,  3.,  4.,  5.,  6.,  7.,  8.,  9., 10.], dtype=float16)"
            ]
          },
          "metadata": {},
          "execution_count": 36
        }
      ]
    },
    {
      "cell_type": "code",
      "source": [
        "new_arreglo.dtype\n"
      ],
      "metadata": {
        "colab": {
          "base_uri": "https://localhost:8080/"
        },
        "id": "p6OakGRMz28h",
        "outputId": "cee246c2-1701-4144-ab7b-1d3008e27e96"
      },
      "execution_count": 37,
      "outputs": [
        {
          "output_type": "execute_result",
          "data": {
            "text/plain": [
              "dtype('float32')"
            ]
          },
          "metadata": {},
          "execution_count": 37
        }
      ]
    },
    {
      "cell_type": "markdown",
      "source": [
        "### Aplicando el Paquete Random\n",
        "Se genera una lista de números enteros aleatorios, que van desde el 1 al 100"
      ],
      "metadata": {
        "id": "eErf8yRhz67d"
      }
    },
    {
      "cell_type": "code",
      "source": [
        "np.random.rand()"
      ],
      "metadata": {
        "colab": {
          "base_uri": "https://localhost:8080/"
        },
        "id": "cCfk6lzv052h",
        "outputId": "f81588c4-3e9a-4cbe-800d-460d103d7203"
      },
      "execution_count": 50,
      "outputs": [
        {
          "output_type": "execute_result",
          "data": {
            "text/plain": [
              "0.6656899964109478"
            ]
          },
          "metadata": {},
          "execution_count": 50
        }
      ]
    },
    {
      "cell_type": "code",
      "source": [
        "np.random.randint(1,100)"
      ],
      "metadata": {
        "colab": {
          "base_uri": "https://localhost:8080/"
        },
        "id": "7e1g4OQ-z_sI",
        "outputId": "39c201c8-bf5b-4ea2-f02b-694bc8333d76"
      },
      "execution_count": 38,
      "outputs": [
        {
          "output_type": "execute_result",
          "data": {
            "text/plain": [
              "67"
            ]
          },
          "metadata": {},
          "execution_count": 38
        }
      ]
    },
    {
      "cell_type": "code",
      "source": [
        "np.random.rand(1,100)"
      ],
      "metadata": {
        "id": "iPl-19t51k-s"
      },
      "execution_count": null,
      "outputs": []
    },
    {
      "cell_type": "code",
      "source": [
        "np.random.randint(10)"
      ],
      "metadata": {
        "colab": {
          "base_uri": "https://localhost:8080/"
        },
        "id": "1WtaVOjA0RsP",
        "outputId": "fdec1e52-de1b-44eb-c083-745801d8a7df"
      },
      "execution_count": 48,
      "outputs": [
        {
          "output_type": "execute_result",
          "data": {
            "text/plain": [
              "3"
            ]
          },
          "metadata": {},
          "execution_count": 48
        }
      ]
    },
    {
      "cell_type": "code",
      "source": [
        "np.random.rand(10)"
      ],
      "metadata": {
        "id": "_y6IY_Gv1rF0"
      },
      "execution_count": null,
      "outputs": []
    },
    {
      "cell_type": "code",
      "source": [
        "np.random.randint(1, 100, 10) #Generando  10 números enteros aleatorioa del 1 al 100"
      ],
      "metadata": {
        "colab": {
          "base_uri": "https://localhost:8080/"
        },
        "id": "vH6BpQwC1uqt",
        "outputId": "280de213-4a32-4bad-f72a-9c46e84a914b"
      },
      "execution_count": 54,
      "outputs": [
        {
          "output_type": "execute_result",
          "data": {
            "text/plain": [
              "array([78, 67, 50, 79, 64, 83, 26, 68, 73, 66])"
            ]
          },
          "metadata": {},
          "execution_count": 54
        }
      ]
    },
    {
      "cell_type": "code",
      "source": [
        "np.random.rand(1, 10, 10)"
      ],
      "metadata": {
        "id": "RC0VeB130-vC"
      },
      "execution_count": null,
      "outputs": []
    },
    {
      "cell_type": "markdown",
      "source": [
        "### Método Arange"
      ],
      "metadata": {
        "id": "AoqqKih527Bs"
      }
    },
    {
      "cell_type": "code",
      "source": [
        "arreglo_3 = np.arange(1,11)\n",
        "arreglo_3"
      ],
      "metadata": {
        "colab": {
          "base_uri": "https://localhost:8080/"
        },
        "id": "f-k0hCHX3Aol",
        "outputId": "5f9d3e90-55c8-4d01-82f7-cc510f52afb7"
      },
      "execution_count": 56,
      "outputs": [
        {
          "output_type": "execute_result",
          "data": {
            "text/plain": [
              "array([ 1,  2,  3,  4,  5,  6,  7,  8,  9, 10])"
            ]
          },
          "metadata": {},
          "execution_count": 56
        }
      ]
    }
  ]
}